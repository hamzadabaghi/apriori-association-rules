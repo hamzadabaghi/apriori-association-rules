{
 "cells": [
  {
   "cell_type": "markdown",
   "id": "backed-information",
   "metadata": {},
   "source": [
    "<h1 style=\"color:red;text-align:center;\">Les bibliotheques utilisées</h1>"
   ]
  },
  {
   "cell_type": "code",
   "execution_count": 4,
   "id": "falling-jewel",
   "metadata": {},
   "outputs": [],
   "source": [
    "import pandas as pd #Pour importer les donnees et croiser la table\n",
    "import numpy as np\n",
    "import matplotlib.pyplot as plt\n",
    "from mlxtend.frequent_patterns import apriori\n",
    "from mlxtend.frequent_patterns import association_rules\n"
   ]
  },
  {
   "cell_type": "markdown",
   "id": "facial-arrest",
   "metadata": {},
   "source": [
    "<h1 style=\"color:red;text-align:center;\">Load dataset</h1>"
   ]
  },
  {
   "cell_type": "code",
   "execution_count": 5,
   "id": "collective-sphere",
   "metadata": {},
   "outputs": [],
   "source": [
    "df = pd.read_csv('./BreadBasket.csv')"
   ]
  },
  {
   "cell_type": "markdown",
   "id": "guided-chester",
   "metadata": {},
   "source": [
    "<h1 style=\"color:red;text-align:center;\">vérification des dimensions de la table</h1>"
   ]
  },
  {
   "cell_type": "code",
   "execution_count": 6,
   "id": "dress-world",
   "metadata": {},
   "outputs": [
    {
     "name": "stdout",
     "output_type": "stream",
     "text": [
      "Les dimentions de la table :\n",
      "(12935, 2)\n",
      "\n",
      "Les 15 premiers lignes de la table :\n",
      "    Transaction                      Item\n",
      "0             1                   Peaches\n",
      "1             2             Vegetable_Oil\n",
      "2             2               Frozen_Corn\n",
      "3             3                     Plums\n",
      "4             4               Pancake_Mix\n",
      "5             5                    Cheese\n",
      "6             6               Cauliflower\n",
      "7             7                 2pct_Milk\n",
      "8             8  98pct_Fat_Free_Hamburger\n",
      "9             8              Potato_Chips\n",
      "10            8                Sesame_Oil\n",
      "11            8        Ice_Cream_Sandwich\n",
      "12            8       Frozen_Cheese_Pizza\n",
      "13            8      Frozen_Sausage_Pizza\n",
      "14            8                Deli_Salad\n"
     ]
    }
   ],
   "source": [
    "print(\"Les dimentions de la table :\")\n",
    "print(df.shape) #Pour verifier les dimensions de la table\n",
    "print(\"\\nLes 15 premiers lignes de la table :\")\n",
    "print(df.head(15)) #Pour afficher les 15 premiers lignes de la base de donnees"
   ]
  },
  {
   "cell_type": "markdown",
   "id": "attended-shift",
   "metadata": {},
   "source": [
    "<h1 style=\"color:red;text-align:center;\">Transformation en tableau binaire</h1>"
   ]
  },
  {
   "cell_type": "code",
   "execution_count": 7,
   "id": "preceding-empty",
   "metadata": {},
   "outputs": [
    {
     "name": "stdout",
     "output_type": "stream",
     "text": [
      "Item         100_Watt_Lightbulb  2pct_Milk  40_Watt_Lightbulb\n",
      "Transaction                                                  \n",
      "1                             0          0                  0\n",
      "2                             0          0                  0\n",
      "3                             0          0                  0\n",
      "4                             0          0                  0\n",
      "5                             0          0                  0\n",
      "6                             0          0                  0\n",
      "7                             0          1                  0\n",
      "8                             0          0                  0\n",
      "9                             0          0                  0\n",
      "10                            0          0                  0\n",
      "11                            0          0                  0\n",
      "12                            0          0                  0\n",
      "13                            0          0                  0\n",
      "14                            0          0                  0\n",
      "15                            0          0                  0\n",
      "16                            0          0                  0\n",
      "17                            0          0                  0\n",
      "18                            0          0                  0\n",
      "19                            0          0                  0\n",
      "20                            0          0                  0\n",
      "21                            0          0                  0\n",
      "22                            0          0                  0\n",
      "23                            0          0                  0\n",
      "24                            0          0                  0\n",
      "25                            0          1                  0\n"
     ]
    }
   ],
   "source": [
    "TC = pd.crosstab(df.Transaction,df.Item) #Notre table croisee en 0/1 (1 si le item est present dans la transaction, 0 sinon)\n",
    "print(TC.iloc[:25,:3]) #Affichage des 25 premiers transactions et 3 premiers items\n"
   ]
  },
  {
   "cell_type": "markdown",
   "id": "premier-agency",
   "metadata": {},
   "source": [
    "<h1 style=\"color:red;text-align:center;\">La dimension du tableau TC</h1>"
   ]
  },
  {
   "cell_type": "code",
   "execution_count": 8,
   "id": "random-finish",
   "metadata": {},
   "outputs": [
    {
     "name": "stdout",
     "output_type": "stream",
     "text": [
      "(1360, 303)\n"
     ]
    }
   ],
   "source": [
    "print(TC.shape)\n"
   ]
  },
  {
   "cell_type": "markdown",
   "id": "restricted-participation",
   "metadata": {},
   "source": [
    "<h1 style=\"color:red;text-align:center;\">La liste des produits (Items)</h1>"
   ]
  },
  {
   "cell_type": "code",
   "execution_count": 9,
   "id": "maritime-gambling",
   "metadata": {},
   "outputs": [
    {
     "name": "stdout",
     "output_type": "stream",
     "text": [
      "Index(['100_Watt_Lightbulb', '2pct_Milk', '40_Watt_Lightbulb',\n",
      "       '60_Watt_Lightbulb', '75_Watt_Lightbulb', '98pct_Fat_Free_Hamburger',\n",
      "       'AA_Cell_Batteries', 'Apple_Cinnamon_Waffles', 'Apple_Drink',\n",
      "       'Apple_Fruit_Roll'],\n",
      "      dtype='object', name='Item')\n"
     ]
    }
   ],
   "source": [
    "print(TC.columns[:10]) #afficher les 10 premiers colonnes (items)\n"
   ]
  },
  {
   "cell_type": "markdown",
   "id": "textile-connection",
   "metadata": {},
   "source": [
    "<h1 style=\"color:red;text-align:center;\">Extraction des itemsets fréquents</h1>"
   ]
  },
  {
   "cell_type": "code",
   "execution_count": 10,
   "id": "incident-editing",
   "metadata": {},
   "outputs": [],
   "source": [
    "#itemsets frequents\n",
    "#support min est (0.025 x 1360), cardinale max 4.\n",
    "freq_itemsets = apriori(TC,min_support=0.040,max_len=5,use_colnames=True)\n"
   ]
  },
  {
   "cell_type": "code",
   "execution_count": 11,
   "id": "virgin-subsection",
   "metadata": {},
   "outputs": [
    {
     "name": "stdout",
     "output_type": "stream",
     "text": [
      "Index(['support', 'itemsets'], dtype='object')\n"
     ]
    }
   ],
   "source": [
    "#résultats sont stockés dans une structure de type ‘’pandas / DataFrame’’\n",
    "type(freq_itemsets)\n",
    "print(freq_itemsets.columns)"
   ]
  },
  {
   "cell_type": "code",
   "execution_count": 12,
   "id": "heated-irrigation",
   "metadata": {},
   "outputs": [
    {
     "name": "stdout",
     "output_type": "stream",
     "text": [
      "(88, 2)\n"
     ]
    }
   ],
   "source": [
    "print(freq_itemsets.shape) #Va nous permet de voir le nb d'itemsets frequents\n"
   ]
  },
  {
   "cell_type": "code",
   "execution_count": 13,
   "id": "naval-lightweight",
   "metadata": {},
   "outputs": [
    {
     "name": "stdout",
     "output_type": "stream",
     "text": [
      "     support                    itemsets\n",
      "0   0.109559                 (2pct_Milk)\n",
      "1   0.093382  (98pct_Fat_Free_Hamburger)\n",
      "2   0.053676                    (Apples)\n",
      "3   0.066912                   (Aspirin)\n",
      "4   0.041912          (BBQ_Potato_Chips)\n",
      "5   0.059559                   (Bananas)\n",
      "6   0.064706                   (Bologna)\n",
      "7   0.052941          (C_Cell_Batteries)\n",
      "8   0.054412               (Canned_Tuna)\n",
      "9   0.046324                (Cantaloupe)\n",
      "10  0.077941                      (Cola)\n",
      "11  0.047794            (Cottage_Cheese)\n",
      "12  0.071324              (Cream_Cheese)\n",
      "13  0.067647             (Domestic_Beer)\n",
      "14  0.122794                      (Eggs)\n"
     ]
    }
   ],
   "source": [
    "#affichage des 15 premiers itemsets\n",
    "print(freq_itemsets.head(15))"
   ]
  },
  {
   "cell_type": "markdown",
   "id": "9e307f34",
   "metadata": {},
   "source": [
    "<h3 style=\"color:blue;text-align:center;\">Filtrage des itemsets fréquents</h3>"
   ]
  },
  {
   "cell_type": "code",
   "execution_count": 14,
   "id": "03c65d0f",
   "metadata": {},
   "outputs": [
    {
     "name": "stdout",
     "output_type": "stream",
     "text": [
      "<class 'pandas.core.series.Series'>\n"
     ]
    }
   ],
   "source": [
    "#type du champ '\n",
    "print(type(freq_itemsets.itemsets))"
   ]
  },
  {
   "cell_type": "code",
   "execution_count": 15,
   "id": "1b584c69",
   "metadata": {},
   "outputs": [
    {
     "name": "stdout",
     "output_type": "stream",
     "text": [
      "0                   (2pct_Milk)\n",
      "1    (98pct_Fat_Free_Hamburger)\n",
      "2                      (Apples)\n",
      "3                     (Aspirin)\n",
      "4            (BBQ_Potato_Chips)\n",
      "Name: itemsets, dtype: object\n"
     ]
    }
   ],
   "source": [
    "#accès indexé aux 5 premiers éléments des itemsets\n",
    "print(freq_itemsets.itemsets[:5])"
   ]
  },
  {
   "cell_type": "code",
   "execution_count": 16,
   "id": "7ce6b863",
   "metadata": {},
   "outputs": [],
   "source": [
    "#fonction de test d'inclusion\n",
    "def is_inclus (x, items):\n",
    "    return items.issubset(x)"
   ]
  },
  {
   "cell_type": "code",
   "execution_count": 17,
   "id": "e0f638f7",
   "metadata": {},
   "outputs": [
    {
     "name": "stdout",
     "output_type": "stream",
     "text": [
      "(array([2], dtype=int64),)\n"
     ]
    }
   ],
   "source": [
    "#recherche des index des itemsets correspondant à une condition (Apples)\n",
    "product = np.where(freq_itemsets.itemsets. apply (is_inclus,items={'Apples'}))\n",
    "print(product)"
   ]
  },
  {
   "cell_type": "code",
   "execution_count": 18,
   "id": "6834aa93",
   "metadata": {},
   "outputs": [
    {
     "name": "stdout",
     "output_type": "stream",
     "text": [
      "    support  itemsets\n",
      "2  0.053676  (Apples)\n"
     ]
    }
   ],
   "source": [
    "#affichage des itemsets corresp.\n",
    "print(freq_itemsets.loc[product])"
   ]
  },
  {
   "cell_type": "markdown",
   "id": "c5d9b13f",
   "metadata": {},
   "source": [
    "<h1 style=\"color:red;text-align:center;\">Extraction (déduction) des règles d’association</h1>"
   ]
  },
  {
   "cell_type": "code",
   "execution_count": 19,
   "id": "1a5b9ee6",
   "metadata": {},
   "outputs": [
    {
     "name": "stdout",
     "output_type": "stream",
     "text": [
      "<class 'pandas.core.frame.DataFrame'>\n"
     ]
    }
   ],
   "source": [
    "#génération des règles à partir des itemsets fréquents, (fonction predefinie dans le biblio mlxtend.frequent_patterns)\n",
    "regles = association_rules(freq_itemsets,metric=\"confidence\",min_threshold=0.75)\n",
    "#type de l'objet renvoyé\n",
    "print(type(regles))"
   ]
  },
  {
   "cell_type": "code",
   "execution_count": 20,
   "id": "4c010177",
   "metadata": {},
   "outputs": [
    {
     "name": "stdout",
     "output_type": "stream",
     "text": [
      "(0, 9)\n"
     ]
    }
   ],
   "source": [
    "#dimension de la table de regles qu'on a trouvé\n",
    "print(regles.shape)"
   ]
  },
  {
   "cell_type": "code",
   "execution_count": 21,
   "id": "5a9cfbfd",
   "metadata": {},
   "outputs": [
    {
     "name": "stdout",
     "output_type": "stream",
     "text": [
      "Index(['antecedents', 'consequents', 'antecedent support',\n",
      "       'consequent support', 'support', 'confidence', 'lift', 'leverage',\n",
      "       'conviction'],\n",
      "      dtype='object')\n"
     ]
    }
   ],
   "source": [
    "#liste des colonnes\n",
    "print(regles.columns)"
   ]
  },
  {
   "cell_type": "code",
   "execution_count": 27,
   "id": "e4c73a48",
   "metadata": {},
   "outputs": [
    {
     "name": "stdout",
     "output_type": "stream",
     "text": [
      "(0, 5)\n",
      "Empty DataFrame\n",
      "Columns: [antecedents, consequents, support, confidence, lift]\n",
      "Index: []\n"
     ]
    }
   ],
   "source": [
    "#règles en restreignant l'affichage à qqs colonnes\n",
    "myRegles = regles.loc[:,['antecedents','consequents','support', 'confidence','lift']]\n",
    "print(myRegles.shape)\n",
    "\n",
    "#pour afficher toutes les colonnes\n",
    "pd.set_option('display.max_columns',5)\n",
    "pd.set_option('precision',3)\n",
    "\n",
    "#affichage des 5 premières règles\n",
    "print(myRegles[:5])"
   ]
  },
  {
   "cell_type": "code",
   "execution_count": 23,
   "id": "1efab63b",
   "metadata": {},
   "outputs": [
    {
     "name": "stdout",
     "output_type": "stream",
     "text": [
      "Empty DataFrame\n",
      "Columns: [antecedents, consequents, support, confidence, lift]\n",
      "Index: []\n"
     ]
    }
   ],
   "source": [
    "#affichage des règles avec un LIFT supérieur ou éga l à 7\n",
    "print(myRegles[myRegles['lift'].ge(7.0)])"
   ]
  },
  {
   "cell_type": "code",
   "execution_count": 24,
   "id": "423a8eb1",
   "metadata": {},
   "outputs": [
    {
     "name": "stdout",
     "output_type": "stream",
     "text": [
      "Empty DataFrame\n",
      "Columns: [antecedents, consequents, support, confidence, lift]\n",
      "Index: []\n"
     ]
    }
   ],
   "source": [
    "#trier les règles dans l'ordre du lift décroissants 10 meilleurs règles\n",
    "print(myRegles.sort_values(by='lift',ascending=False)[:10])"
   ]
  },
  {
   "cell_type": "code",
   "execution_count": 25,
   "id": "6b23da4c",
   "metadata": {},
   "outputs": [
    {
     "name": "stdout",
     "output_type": "stream",
     "text": [
      "Empty DataFrame\n",
      "Columns: [antecedents, consequents, support, confidence, lift]\n",
      "Index: []\n"
     ]
    }
   ],
   "source": [
    "#filtrer les règles menant au conséquent White_Bread\n",
    "print(myRegles[myRegles['consequents'].eq({'White_Bread'})])"
   ]
  },
  {
   "cell_type": "code",
   "execution_count": 26,
   "id": "0e399a65",
   "metadata": {},
   "outputs": [
    {
     "name": "stdout",
     "output_type": "stream",
     "text": [
      "Empty DataFrame\n",
      "Columns: [antecedents, consequents, support, confidence, lift]\n",
      "Index: []\n"
     ]
    }
   ],
   "source": [
    "#filtrer les règles contenant 'Bananas' dans leur antécédent\n",
    "print(myRegles[myRegles['antecedents'].ge({'Bananas'})])"
   ]
  },
  {
   "cell_type": "code",
   "execution_count": null,
   "id": "unnecessary-samuel",
   "metadata": {},
   "outputs": [],
   "source": []
  },
  {
   "cell_type": "code",
   "execution_count": null,
   "id": "young-cedar",
   "metadata": {},
   "outputs": [],
   "source": []
  }
 ],
 "metadata": {
  "kernelspec": {
   "display_name": "Python 3",
   "language": "python",
   "name": "python3"
  },
  "language_info": {
   "codemirror_mode": {
    "name": "ipython",
    "version": 3
   },
   "file_extension": ".py",
   "mimetype": "text/x-python",
   "name": "python",
   "nbconvert_exporter": "python",
   "pygments_lexer": "ipython3",
   "version": "3.8.0"
  }
 },
 "nbformat": 4,
 "nbformat_minor": 5
}
